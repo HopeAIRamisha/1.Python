{
 "cells": [
  {
   "cell_type": "markdown",
   "metadata": {},
   "source": [
    "# Syntax -class"
   ]
  },
  {
   "cell_type": "code",
   "execution_count": null,
   "metadata": {},
   "outputs": [],
   "source": [
    "class className():\n",
    "    def functionName1():\n",
    "        print()\n",
    "    def functionName2():\n",
    "        print()\n",
    "    "
   ]
  },
  {
   "cell_type": "code",
   "execution_count": 8,
   "metadata": {},
   "outputs": [],
   "source": [
    "class ageAadhar():\n",
    "    def ageCata():\n",
    "        age=int(input(\"Enter the age:\"))\n",
    "        if(age<=18):\n",
    "            print(\"childern\")\n",
    "        elif(age<=35):\n",
    "            print(\"Adult\")\n",
    "        elif(age<=59):\n",
    "            print(\"Citizen\")\n",
    "        else:\n",
    "            print(\"Senior Citizen\") \n",
    "    def addition():\n",
    "        num1=int(input(\"ENter the number1:\"))\n",
    "        num2=int(input(\"ENter the number2:\"))\n",
    "        add=num1+num2\n",
    "        print(add)\n",
    "        \n",
    "    def sub():\n",
    "        print(\"Sub\")\n",
    "        \n"
   ]
  },
  {
   "cell_type": "code",
   "execution_count": 3,
   "metadata": {},
   "outputs": [
    {
     "name": "stdout",
     "output_type": "stream",
     "text": [
      "ENter the number1:4\n",
      "ENter the number2:5\n",
      "9\n"
     ]
    }
   ],
   "source": [
    "#className.FunctionName()\n",
    "ageAadhar.addition()"
   ]
  },
  {
   "cell_type": "code",
   "execution_count": null,
   "metadata": {},
   "outputs": [],
   "source": []
  },
  {
   "cell_type": "code",
   "execution_count": 4,
   "metadata": {},
   "outputs": [
    {
     "name": "stdout",
     "output_type": "stream",
     "text": [
      "Enter the age:5\n",
      "childern\n"
     ]
    }
   ],
   "source": [
    "ageAadhar.ageCata()"
   ]
  },
  {
   "cell_type": "markdown",
   "metadata": {},
   "source": [
    "#Procedure\n",
    "1.Requirement-addition,matrixmul\n",
    "2.output display\n",
    "3.logic-Brain should know \n",
    "4.coding logic -correct\n",
    "5.convert into function\n",
    "6.function-working-correct\n",
    "7.Convert into class\n",
    "8.Class-working-correct\n"
   ]
  },
  {
   "cell_type": "code",
   "execution_count": 9,
   "metadata": {},
   "outputs": [
    {
     "name": "stdout",
     "output_type": "stream",
     "text": [
      "Sub\n"
     ]
    }
   ],
   "source": [
    "ageAadhar.sub()"
   ]
  },
  {
   "cell_type": "code",
   "execution_count": null,
   "metadata": {},
   "outputs": [],
   "source": [
    "#create a class in the name of \"calculator\"\n",
    "# it should perform\n",
    "# 1.Addition -Function1\n",
    "# 2.Sub-Function2\n"
   ]
  },
  {
   "cell_type": "code",
   "execution_count": null,
   "metadata": {},
   "outputs": [],
   "source": [
    "class ageAadhar():\n",
    "    def ageCata():\n",
    "        age=int(input(\"Enter the age:\"))\n",
    "        if(age<=18):\n",
    "            print(\"childern\")\n",
    "        elif(age<=35):\n",
    "            print(\"Adult\")\n",
    "        elif(age<=59):\n",
    "            print(\"Citizen\")\n",
    "        else:\n",
    "            print(\"Senior Citizen\") \n",
    "    def addition():\n",
    "        num1=int(input(\"ENter the number1:\"))\n",
    "        num2=int(input(\"ENter the number2:\"))\n",
    "        add=num1+num2\n",
    "        print(add)\n",
    "        \n",
    "    def sub():\n",
    "        print(\"Sub\")\n",
    "        \n"
   ]
  },
  {
   "cell_type": "markdown",
   "metadata": {},
   "source": [
    "\n",
    "1.Create a .py file\n",
    "2.Copy the class calculator to the .py file\n",
    "3.add the init function\n",
    "4.add the paramter self to the created functions\n",
    "5.create new ipynb, import that class calculator and call any of the functions.\n",
    "\n"
   ]
  }
 ],
 "metadata": {
  "kernelspec": {
   "display_name": "Python 3",
   "language": "python",
   "name": "python3"
  },
  "language_info": {
   "codemirror_mode": {
    "name": "ipython",
    "version": 3
   },
   "file_extension": ".py",
   "mimetype": "text/x-python",
   "name": "python",
   "nbconvert_exporter": "python",
   "pygments_lexer": "ipython3",
   "version": "3.7.4"
  }
 },
 "nbformat": 4,
 "nbformat_minor": 2
}
